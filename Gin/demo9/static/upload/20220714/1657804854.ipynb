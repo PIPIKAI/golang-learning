{
 "cells": [
  {
   "cell_type": "code",
   "execution_count": null,
   "metadata": {},
   "outputs": [],
   "source": []
  },
  {
   "cell_type": "markdown",
   "metadata": {},
   "source": [
    "## import packges"
   ]
  },
  {
   "cell_type": "code",
   "execution_count": 1,
   "metadata": {},
   "outputs": [],
   "source": [
    "import numpy as np\n",
    "import pandas as pd\n",
    "pd.options.plotting.backend = \"plotly\"\n",
    "import random\n",
    "from glob import glob\n",
    "import os, shutil\n",
    "from tqdm import tqdm\n",
    "tqdm.pandas()\n",
    "import time\n",
    "import copy\n",
    "import joblib\n",
    "from collections import defaultdict\n",
    "import gc\n",
    "from IPython import display as ipd\n",
    "\n",
    "# visualization\n",
    "import cv2\n",
    "import matplotlib.pyplot as plt\n",
    "from matplotlib.patches import Rectangle\n",
    "\n",
    "# Sklearn\n",
    "from sklearn.model_selection import StratifiedKFold, KFold, StratifiedGroupKFold\n",
    "\n",
    "# PyTorch \n",
    "import torch\n",
    "import torch.nn as nn\n",
    "import torch.optim as optim\n",
    "from torch.optim import lr_scheduler\n",
    "from torch.utils.data import Dataset, DataLoader\n",
    "from torch.cuda import amp\n",
    "\n",
    "import timm\n",
    "\n",
    "# Albumentations for augmentations\n",
    "import albumentations as A\n",
    "from albumentations.pytorch import ToTensorV2\n",
    "\n",
    "from joblib import Parallel, delayed\n",
    "\n",
    "# For colored terminal text\n",
    "from colorama import Fore, Back, Style\n",
    "c_  = Fore.GREEN\n",
    "sr_ = Style.RESET_ALL\n",
    "\n",
    "import warnings\n",
    "warnings.filterwarnings(\"ignore\")\n",
    "\n",
    "# For descriptive error messages\n",
    "os.environ['CUDA_LAUNCH_BLOCKING'] = \"1\""
   ]
  },
  {
   "cell_type": "markdown",
   "metadata": {},
   "source": [
    "## CONFIG"
   ]
  },
  {
   "cell_type": "code",
   "execution_count": 2,
   "metadata": {},
   "outputs": [],
   "source": [
    "## CONFIG\n",
    "class CFG:\n",
    "    seed          = 222\n",
    "    debug         = False # set debug=False for Full Training\n",
    "    model_name    = 'Unet'\n",
    "    backbone      = 'efficientnet-b7'\n",
    "    train_bs      = 20\n",
    "    valid_bs      = train_bs*2\n",
    "    img_size      = [384, 384]\n",
    "    epochs        = 20  if not debug else 3\n",
    "    lr            = 2e-3\n",
    "    scheduler     = 'CosineAnnealingLR'\n",
    "    min_lr        = 1e-6\n",
    "    T_max         = epochs+5\n",
    "    T_0           = 25\n",
    "    warmup_epochs = 0\n",
    "    wd            = 1e-6\n",
    "    n_accumulate  = 1\n",
    "    n_fold        = 5\n",
    "    folds         = [0,1,2,3,4]\n",
    "    num_classes   = 3\n",
    "    device        = torch.device(\"cuda:0\" if torch.cuda.is_available() else \"cpu\")\n",
    "    # you need replace the base_path as your local data path\n",
    "    base_path = '../input'\n",
    "    pretrained = False\n",
    "    model_path =base_path + '/uwmgi-pretrained-efficentb0-lr2e-3'\n",
    "    log_path = './logpath/'+f'{time.strftime(\"%Y_%m_%d_%H_%M\", time.localtime())}' +( '_debug' if debug else '')\n",
    "#   2.5 d data set\n",
    "    img_stride = 2\n",
    "    img_channel = 3"
   ]
  },
  {
   "cell_type": "code",
   "execution_count": 3,
   "metadata": {},
   "outputs": [
    {
     "name": "stdout",
     "output_type": "stream",
     "text": [
      "Debug : False\n",
      "make dir ./logpath/2022_06_29_16_30\n"
     ]
    }
   ],
   "source": [
    "print(f'Debug : {CFG.debug}')\n",
    "if not os.path.exists(CFG.log_path):\n",
    "    os.makedirs(CFG.log_path)\n",
    "    print(f'make dir {CFG.log_path}')"
   ]
  },
  {
   "cell_type": "markdown",
   "metadata": {},
   "source": [
    "## Set Seed"
   ]
  },
  {
   "cell_type": "code",
   "execution_count": 4,
   "metadata": {},
   "outputs": [
    {
     "name": "stdout",
     "output_type": "stream",
     "text": [
      "> SEEDING DONE 222\n"
     ]
    }
   ],
   "source": [
    "def set_seed(seed = 42):\n",
    "    '''Sets the seed of the entire notebook so results are the same every time we run.\n",
    "    This is for REPRODUCIBILITY.'''\n",
    "    np.random.seed(seed)\n",
    "    random.seed(seed)\n",
    "    torch.manual_seed(seed)\n",
    "    torch.cuda.manual_seed(seed)\n",
    "    # When running on the CuDNN backend, two further options must be set\n",
    "    torch.backends.cudnn.deterministic = True\n",
    "    torch.backends.cudnn.benchmark = False\n",
    "    # Set a fixed value for the hash seed\n",
    "    os.environ['PYTHONHASHSEED'] = str(seed)\n",
    "    print('> SEEDING DONE',seed)\n",
    "    \n",
    "set_seed(CFG.seed)"
   ]
  },
  {
   "cell_type": "markdown",
   "metadata": {},
   "source": [
    "## rle decode and encode"
   ]
  },
  {
   "cell_type": "code",
   "execution_count": 5,
   "metadata": {},
   "outputs": [],
   "source": [
    "# ref: https://www.kaggle.com/paulorzp/run-length-encode-and-decode\n",
    "def rle_decode(mask_rle, shape):\n",
    "    '''\n",
    "    mask_rle: run-length as string formated (start length)\n",
    "    shape: (height,width) of array to return \n",
    "    Returns numpy array, 1 - mask, 0 - background\n",
    "\n",
    "    '''\n",
    "    s = np.asarray(mask_rle.split(), dtype=int)\n",
    "    starts = s[0::2] - 1\n",
    "    lengths = s[1::2]\n",
    "    ends = starts + lengths\n",
    "    img = np.zeros(shape[0]*shape[1], dtype=np.uint8)\n",
    "    for lo, hi in zip(starts, ends):\n",
    "        img[lo:hi] = 1\n",
    "    return img.reshape(shape)  # Needed to align to RLE direction\n",
    "\n",
    "\n",
    "# ref.: https://www.kaggle.com/stainsby/fast-tested-rle\n",
    "def rle_encode(img):\n",
    "    '''\n",
    "    img: numpy array, 1 - mask, 0 - background\n",
    "    Returns run length as string formated\n",
    "    '''\n",
    "    pixels = img.flatten()\n",
    "    pixels = np.concatenate([[0], pixels, [0]])\n",
    "    runs = np.where(pixels[1:] != pixels[:-1])[0] + 1\n",
    "    runs[1::2] -= runs[::2]\n",
    "    return ' '.join(str(x) for x in runs)"
   ]
  },
  {
   "cell_type": "markdown",
   "metadata": {},
   "source": [
    "## utils"
   ]
  },
  {
   "cell_type": "code",
   "execution_count": 6,
   "metadata": {},
   "outputs": [],
   "source": [
    "def id2mask(id_,df):\n",
    "    idf = df[df['id']==id_]\n",
    "    wh = idf[['height','width']].iloc[0]\n",
    "    shape = (wh.height, wh.width, 3)\n",
    "    mask = np.zeros(shape, dtype=np.uint8)\n",
    "    rles =idf.segmentation.tolist()[0]\n",
    "    i=0\n",
    "    for rle in rles:\n",
    "        mask[..., i] = rle_decode(rle, shape[:2])\n",
    "        i+=1\n",
    "    mask = mask.astype('float32')\n",
    "    return mask\n",
    "\n",
    "def load_img(path):\n",
    "    img = cv2.imread(path, cv2.IMREAD_UNCHANGED)\n",
    "    img = img.astype('uint') # original is uint16\n",
    "    return img\n",
    "\n",
    "def load_2_5dimg(paths,h,w):\n",
    "    new_img = np.zeros((h,w,CFG.img_channel), dtype=np.uint)\n",
    "    for i in range(CFG.img_channel):\n",
    "        new_img[..., i] += load_img(paths[i])\n",
    "\n",
    "    new_img = new_img.astype('float32')\n",
    "    mx =new_img.max()\n",
    "    if mx:\n",
    "        new_img = new_img /mx\n",
    "    return new_img\n",
    "def show_img(img, mask=None):\n",
    "    plt.imshow(img, cmap='bone')\n",
    "    \n",
    "    if mask is not None:\n",
    "        # plt.imshow(np.ma.masked_where(mask!=1, mask), alpha=0.5, cmap='autumn')\n",
    "        plt.imshow(mask, alpha=0.5)\n",
    "        handles = [Rectangle((0,0),1,1, color=_c) for _c in [(0.667,0.0,0.0), (0.0,0.667,0.0), (0.0,0.0,0.667)]]\n",
    "        labels = [ \"Large Bowel\", \"Small Bowel\", \"Stomach\"]\n",
    "        plt.legend(handles,labels)\n",
    "    plt.axis('off')\n",
    "\n",
    "def plot_batch(imgs, msks, k=5):\n",
    "    img_id =0\n",
    "    size=imgs.shape[0]\n",
    "    for idx in range(size//k ):\n",
    "        plt.figure(figsize=(5*5,k))\n",
    "        for i in range(k):\n",
    "            plt.subplot(1, k, (i)%k +1)\n",
    "            img = imgs[img_id,].permute((1, 2, 0)).numpy()*255.0\n",
    "            img = img.astype('uint8')\n",
    "    #         msk = msks[idx,].permute((1, 2, 0)).numpy()*255.0\n",
    "            msk = msks[img_id,].permute((1, 2, 0)).numpy()*255.0\n",
    "            msk = msk.astype('uint8')\n",
    "            show_img(img, msk)\n",
    "            img_id+=1\n",
    "        plt.tight_layout()\n",
    "        plt.show()"
   ]
  },
  {
   "cell_type": "markdown",
   "metadata": {},
   "source": [
    "## make 2.5d data"
   ]
  },
  {
   "cell_type": "code",
   "execution_count": 7,
   "metadata": {},
   "outputs": [],
   "source": [
    "def make_25data(df):\n",
    "    channels = CFG.img_channel\n",
    "    stride = CFG.img_stride\n",
    "    for i in range(channels):\n",
    "        df[f'image_path_{i:02}'] = df.groupby(['case','day'])['image_path'].shift(-i*stride).fillna(method=\"ffill\")\n",
    "    df['image_paths'] = df[[f'image_path_{i:02d}' for i in range(channels)]].values.tolist()\n",
    "    for i in range(channels):\n",
    "        df.drop(labels=[f'image_path_{i:02}'],axis=1,inplace=True)\n",
    "    return df"
   ]
  },
  {
   "cell_type": "markdown",
   "metadata": {},
   "source": [
    "## Create Folds"
   ]
  },
  {
   "cell_type": "code",
   "execution_count": 8,
   "metadata": {},
   "outputs": [],
   "source": [
    "def creat_folds(df):\n",
    "    skf = StratifiedGroupKFold(n_splits=CFG.n_fold, shuffle=True, random_state=CFG.seed)\n",
    "    for fold, (train_idx, val_idx) in enumerate(skf.split(df, df['empty'], groups = df[\"case\"])):\n",
    "        df.loc[val_idx, 'fold'] = fold\n",
    "    print(df.groupby(['fold','empty'])['id'].count())\n",
    "    return df"
   ]
  },
  {
   "cell_type": "markdown",
   "metadata": {},
   "source": [
    "## deal csv"
   ]
  },
  {
   "cell_type": "code",
   "execution_count": 9,
   "metadata": {},
   "outputs": [],
   "source": [
    "def deal_csv():\n",
    "    df =pd.read_csv(CFG.base_path + '/uw-madison-gi-tract-image-segmentation/train.csv')\n",
    "    df['empty'] = df.segmentation.map(lambda x: bool(pd.isna(x)))\n",
    "    df['segmentation'] = df.segmentation.fillna('')\n",
    "    df2 = df.groupby(['id'])['class'].agg(list).to_frame().reset_index()\n",
    "    df2 = df2.merge(df.groupby(['id'])['segmentation'].agg(list), on=['id'])\n",
    "    df = df.drop(columns=['segmentation', 'class'])\n",
    "    df = df.groupby(['id']).head(1).reset_index(drop=True)\n",
    "    df = df.merge(df2, on=['id'])\n",
    "    df['case'] = df.id.map(lambda x : int(x.split('_')[0].replace('case','')) )\n",
    "    df['day'] = df.id.map(lambda x : int(x.split('_')[1].replace('day','')) )\n",
    "    df['slice'] = df.id.map(lambda x : int(x.split('_')[-1]) )\n",
    "\n",
    "\n",
    "    paths = glob(f'{CFG.base_path}/uw-madison-gi-tract-image-segmentation/train/**/*png',recursive=True)\n",
    "    path_df = pd.DataFrame(paths, columns=['image_path'])\n",
    "    data = path_df['image_path'].map(lambda x: x.split('/'))\n",
    "    path_df['slice'] = data.map(lambda x : int(x[-1].split('_')[1]))\n",
    "    path_df['case'] = data.map(lambda x : int(x[-3].split('_')[0].replace('case','')))\n",
    "    path_df['day'] = data.map(lambda x : int(x[-3].split('_')[1].replace('day','')))\n",
    "    path_df['width'] = data.map(lambda x : int(x[-1].split('_')[2]))\n",
    "    path_df['height'] = data.map(lambda x : int(x[-1].split('_')[3]))\n",
    "    df = df.merge(path_df, on=['case','day','slice'], how='left')\n",
    "\n",
    "    df =make_25data(df)\n",
    "    df = creat_folds(df)\n",
    "    return df"
   ]
  },
  {
   "cell_type": "markdown",
   "metadata": {},
   "source": [
    "## Remove Faulty"
   ]
  },
  {
   "cell_type": "code",
   "execution_count": 10,
   "metadata": {},
   "outputs": [],
   "source": [
    "def remove_faulty(df):\n",
    "    fault1 = 'case7_day0'\n",
    "    fault2 = 'case81_day30'\n",
    "    df = df[~df['id'].str.contains(fault1) & ~df['id'].str.contains(fault2)].reset_index(drop=True)\n",
    "    return df"
   ]
  },
  {
   "cell_type": "markdown",
   "metadata": {},
   "source": [
    "## Build Dataset"
   ]
  },
  {
   "cell_type": "code",
   "execution_count": 11,
   "metadata": {},
   "outputs": [],
   "source": [
    "class BuildDataset(torch.utils.data.Dataset):\n",
    "    def __init__(self, df, label=True, transforms=None,test=False):\n",
    "        self.df         = df\n",
    "        self.label      = label\n",
    "        self.img_paths  = df['image_paths'].tolist()\n",
    "        self.ids        = df['id'].tolist()\n",
    "        self.widths     = df['width'].tolist()\n",
    "        self.heights     = df['height'].tolist()\n",
    "        self.transforms = transforms\n",
    "        self.test = test\n",
    "    def __len__(self):\n",
    "        return len(self.df)\n",
    "    \n",
    "    def __getitem__(self, index):\n",
    "        img_paths  = self.img_paths[index]\n",
    "        h = self.heights[index]\n",
    "        w = self.widths[index]\n",
    "        img = load_2_5dimg(img_paths,h,w)\n",
    "        id_ = self.ids[index]\n",
    "        \n",
    "        \n",
    "        if self.label:\n",
    "            msk = id2mask(id_ ,self.df)\n",
    "            if self.transforms:\n",
    "                data = self.transforms(image=img, mask=msk)\n",
    "                img  = data['image']\n",
    "                msk  = data['mask']\n",
    "\n",
    "            img = np.transpose(img, (2, 0, 1))\n",
    "            msk = np.transpose(msk, (2, 0, 1))\n",
    "            return torch.tensor(img), torch.tensor(msk)\n",
    "        else:\n",
    "            if self.transforms:\n",
    "                data = self.transforms(image=img)\n",
    "                img  = data['image']\n",
    "\n",
    "            img = np.transpose(img, (2, 0, 1))\n",
    "            if self.test:\n",
    "                return torch.tensor(img), id_, h, w\n",
    "            return torch.tensor(img)"
   ]
  },
  {
   "cell_type": "markdown",
   "metadata": {},
   "source": [
    "## Augmentations"
   ]
  },
  {
   "cell_type": "code",
   "execution_count": 12,
   "metadata": {},
   "outputs": [],
   "source": [
    "data_transforms = {\n",
    "    \"train\": A.Compose([\n",
    "        A.PadIfNeeded(*CFG.img_size,position=\"center\",border_mode=cv2.BORDER_CONSTANT),\n",
    "        A.Resize(*CFG.img_size, interpolation=cv2.INTER_NEAREST),\n",
    "        A.HorizontalFlip(p=0.5),\n",
    "        A.VerticalFlip(p=0.5),\n",
    "        A.ShiftScaleRotate(shift_limit=0.0625, scale_limit=0.05, rotate_limit=45, p=0.6),\n",
    "        A.OneOf([\n",
    "            A.GridDistortion(num_steps=5, distort_limit=0.05, p=1.0),\n",
    "# #             A.OpticalDistortion(distort_limit=0.05, shift_limit=0.05, p=1.0),\n",
    "            A.ElasticTransform(alpha=1, sigma=50, alpha_affine=50, p=1.0)\n",
    "        ], p=0.33),\n",
    "        # A.RandomGamma(gamma_limit=(80, 120), eps=None, p=0.6),\n",
    "        ], p=1.0),\n",
    "    \n",
    "    \"valid\": A.Compose([\n",
    "        A.PadIfNeeded(*CFG.img_size,position=\"center\",border_mode=cv2.BORDER_CONSTANT),\n",
    "        A.Resize(*CFG.img_size, interpolation=cv2.INTER_NEAREST),\n",
    "        ], p=1.0)\n",
    "}"
   ]
  },
  {
   "cell_type": "markdown",
   "metadata": {},
   "source": [
    "## DataLoader"
   ]
  },
  {
   "cell_type": "code",
   "execution_count": 13,
   "metadata": {},
   "outputs": [],
   "source": [
    "def prepare_loaders(df,fold, debug=False):\n",
    "    train_df = df.query(\"fold!=@fold\").reset_index(drop=True)\n",
    "    valid_df = df.query(\"fold==@fold\").reset_index(drop=True)\n",
    "    if debug:\n",
    "        train_df = train_df.head(32*5).query(\"empty==0\")\n",
    "        valid_df = valid_df.head(32*5).query(\"empty==0\")\n",
    "    train_dataset = BuildDataset(train_df, transforms=data_transforms['train'])\n",
    "    valid_dataset = BuildDataset(valid_df, transforms=data_transforms['valid'])\n",
    "\n",
    "    train_loader = DataLoader(train_dataset, batch_size=CFG.train_bs if not debug else 20, \n",
    "                              num_workers=2, shuffle=True, pin_memory=False, drop_last=False)\n",
    "    valid_loader = DataLoader(valid_dataset, batch_size=CFG.valid_bs if not debug else 20, \n",
    "                              num_workers=2, shuffle=False, pin_memory=False)\n",
    "    \n",
    "    return train_loader, valid_loader"
   ]
  },
  {
   "cell_type": "markdown",
   "metadata": {},
   "source": [
    "## Check Mask"
   ]
  },
  {
   "cell_type": "code",
   "execution_count": 14,
   "metadata": {},
   "outputs": [],
   "source": [
    "def check_mask(df):\n",
    "    train_loader, valid_loader =prepare_loaders(df,0,True)\n",
    "    imges ,mask =next(iter(train_loader))\n",
    "    plot_batch(imges,mask)"
   ]
  },
  {
   "cell_type": "markdown",
   "metadata": {},
   "source": [
    "## Build Model"
   ]
  },
  {
   "cell_type": "code",
   "execution_count": 15,
   "metadata": {},
   "outputs": [],
   "source": [
    "import segmentation_models_pytorch as smp\n",
    "\n",
    "def build_model():\n",
    "    model = smp.Unet(\n",
    "        encoder_name=CFG.backbone,      # choose encoder, e.g. mobilenet_v2 or efficientnet-b7\n",
    "        encoder_weights= 'imagenet',     # use `imagenet` pre-trained weights for encoder initialization\n",
    "        in_channels=CFG.img_channel,                  # model input channels (1 for gray-scale images, 3 for RGB, etc.)\n",
    "        classes=CFG.num_classes,        # model output channels (number of classes in your dataset)\n",
    "        activation=None,\n",
    "    )\n",
    "    model.to(CFG.device)\n",
    "    return model\n",
    "\n",
    "def load_model(path):\n",
    "    model = build_model()\n",
    "    model.load_state_dict(torch.load(path))\n",
    "    model.eval()\n",
    "    return model"
   ]
  },
  {
   "cell_type": "code",
   "execution_count": 16,
   "metadata": {},
   "outputs": [],
   "source": [
    "# from torchsummary import summary\n",
    "\n",
    "# model =build_model()\n",
    "# summary(model.cuda() ,(CFG.img_channel,*CFG.img_size))\n",
    "# del model"
   ]
  },
  {
   "cell_type": "markdown",
   "metadata": {},
   "source": [
    "## Loss Function"
   ]
  },
  {
   "cell_type": "code",
   "execution_count": 17,
   "metadata": {},
   "outputs": [],
   "source": [
    "JaccardLoss = smp.losses.JaccardLoss(mode='multilabel')\n",
    "DiceLoss    = smp.losses.DiceLoss(mode='multilabel')\n",
    "BCELoss     = smp.losses.SoftBCEWithLogitsLoss()\n",
    "LovaszLoss  = smp.losses.LovaszLoss(mode='multilabel', per_image=False)\n",
    "TverskyLoss = smp.losses.TverskyLoss(mode='multilabel', log_loss=False)\n",
    "\n",
    "def dice_coef(y_true, y_pred, thr=0.5, dim=(2,3), epsilon=0.001):\n",
    "    y_true = y_true.to(torch.float32)\n",
    "    y_pred = (y_pred>thr).to(torch.float32)\n",
    "    inter = (y_true*y_pred).sum(dim=dim)\n",
    "    den = y_true.sum(dim=dim) + y_pred.sum(dim=dim)\n",
    "    dice = ((2*inter+epsilon)/(den+epsilon)).mean(dim=(1,0))\n",
    "    return dice\n",
    "\n",
    "def iou_coef(y_true, y_pred, thr=0.5, dim=(2,3), epsilon=0.001):\n",
    "    y_true = y_true.to(torch.float32)\n",
    "    y_pred = (y_pred>thr).to(torch.float32)\n",
    "    inter = (y_true*y_pred).sum(dim=dim)\n",
    "    union = (y_true + y_pred - y_true*y_pred).sum(dim=dim)\n",
    "    iou = ((inter+epsilon)/(union+epsilon)).mean(dim=(1,0))\n",
    "    return iou\n",
    "\n",
    "def criterion(y_pred, y_true):\n",
    "    # return 0.5*BCELoss(y_pred, y_true) + 0.5*TverskyLoss(y_pred, y_true)\n",
    "    return 0.5*DiceLoss(y_pred, y_true) + 0.5*TverskyLoss(y_pred, y_true)"
   ]
  },
  {
   "cell_type": "markdown",
   "metadata": {},
   "source": [
    "## Training Function"
   ]
  },
  {
   "cell_type": "code",
   "execution_count": 18,
   "metadata": {},
   "outputs": [],
   "source": [
    "def train_one_epoch(model, optimizer, scheduler, dataloader, device, epoch):\n",
    "    model.train()\n",
    "    scaler = amp.GradScaler()\n",
    "    \n",
    "    dataset_size = 0\n",
    "    running_loss = 0.0\n",
    "    \n",
    "    pbar = tqdm(enumerate(dataloader), total=len(dataloader), desc='Train ')\n",
    "    for step, (images, masks) in pbar:         \n",
    "        images = images.to(device, dtype=torch.float)\n",
    "        masks  = masks.to(device, dtype=torch.float)\n",
    "        \n",
    "        batch_size = images.size(0)\n",
    "        \n",
    "        with amp.autocast(enabled=True):\n",
    "            y_pred = model(images)\n",
    "            loss   = criterion(y_pred, masks)\n",
    "            loss   = loss / CFG.n_accumulate\n",
    "            \n",
    "        scaler.scale(loss).backward()\n",
    "    \n",
    "        if (step + 1) % CFG.n_accumulate == 0:\n",
    "            scaler.step(optimizer)\n",
    "            scaler.update()\n",
    "\n",
    "            # zero the parameter gradients\n",
    "            optimizer.zero_grad()\n",
    "\n",
    "            # if scheduler is not None:\n",
    "            #     scheduler.step()\n",
    "                \n",
    "        running_loss += (loss.item() * batch_size)\n",
    "        dataset_size += batch_size\n",
    "        \n",
    "        epoch_loss = running_loss / dataset_size\n",
    "        \n",
    "        mem = torch.cuda.memory_reserved() / 1E9 if torch.cuda.is_available() else 0\n",
    "        current_lr = optimizer.param_groups[0]['lr']\n",
    "        pbar.set_postfix(train_loss=f'{epoch_loss:0.4f}',\n",
    "                        lr=f'{current_lr:0.5f}',\n",
    "                        gpu_mem=f'{mem:0.2f} GB')\n",
    "    torch.cuda.empty_cache()\n",
    "    \n",
    "    return epoch_loss"
   ]
  },
  {
   "cell_type": "markdown",
   "metadata": {},
   "source": [
    "## Validation Function"
   ]
  },
  {
   "cell_type": "code",
   "execution_count": 19,
   "metadata": {},
   "outputs": [],
   "source": [
    "@torch.no_grad()\n",
    "def valid_one_epoch(model, dataloader, device, epoch):\n",
    "    model.eval()\n",
    "    \n",
    "    dataset_size = 0\n",
    "    running_loss = 0.0\n",
    "    \n",
    "    val_scores = []\n",
    "    \n",
    "    pbar = tqdm(enumerate(dataloader), total=len(dataloader), desc='Valid ')\n",
    "    for step, (images, masks) in pbar:        \n",
    "        images  = images.to(device, dtype=torch.float)\n",
    "        masks   = masks.to(device, dtype=torch.float)\n",
    "        \n",
    "        batch_size = images.size(0)\n",
    "        \n",
    "        y_pred  = model(images)\n",
    "        loss    = criterion(y_pred, masks)\n",
    "        \n",
    "        running_loss += (loss.item() * batch_size)\n",
    "        dataset_size += batch_size\n",
    "        \n",
    "        epoch_loss = running_loss / dataset_size\n",
    "        \n",
    "        y_pred = nn.Sigmoid()(y_pred)\n",
    "        val_dice = dice_coef(masks, y_pred).cpu().detach().numpy()\n",
    "        val_jaccard = iou_coef(masks, y_pred).cpu().detach().numpy()\n",
    "        val_scores.append([val_dice, val_jaccard])\n",
    "        \n",
    "        mem = torch.cuda.memory_reserved() / 1E9 if torch.cuda.is_available() else 0\n",
    "        pbar.set_postfix(valid_loss=f'{epoch_loss:0.4f}',\n",
    "                        gpu_memory=f'{mem:0.2f} GB')\n",
    "    val_scores  = np.mean(val_scores, axis=0)\n",
    "    \n",
    "    return epoch_loss, val_scores"
   ]
  },
  {
   "cell_type": "markdown",
   "metadata": {},
   "source": [
    "## Run Training"
   ]
  },
  {
   "cell_type": "code",
   "execution_count": 20,
   "metadata": {},
   "outputs": [],
   "source": [
    "def run_training(model, optimizer, scheduler, num_epochs ,train_loader , valid_loader,fold):\n",
    "    \n",
    "    start = time.time()\n",
    "    best_model_wts = copy.deepcopy(model.state_dict())\n",
    "    best_dice      = -np.inf\n",
    "    best_epoch     = -1\n",
    "    history = defaultdict(list)\n",
    "\n",
    "    for epoch in range(1, num_epochs + 1): \n",
    "        print(f'Epoch {epoch}/{num_epochs}', end='')\n",
    "        train_loss = train_one_epoch(model, optimizer, scheduler, \n",
    "                                           dataloader=train_loader, \n",
    "                                           device=CFG.device, epoch=epoch)\n",
    "        \n",
    "        val_loss, val_scores = valid_one_epoch(model, valid_loader, \n",
    "                                                 device=CFG.device, \n",
    "                                                 epoch=epoch)\n",
    "        val_dice, val_jaccard = val_scores\n",
    "    \n",
    "        history['Train Loss'].append(train_loss)\n",
    "        history['Valid Loss'].append(val_loss)\n",
    "        history['Valid Dice'].append(val_dice)\n",
    "        history['Valid Jaccard'].append(val_jaccard)\n",
    "        \n",
    "        print(f'Valid Dice: {val_dice:0.4f} | Valid Jaccard: {val_jaccard:0.4f}')\n",
    "        \n",
    "        # deep copy the model\n",
    "        if val_dice >= best_dice:\n",
    "            print(f\"{c_}Valid Score Improved ({best_dice:0.4f} ---> {val_dice:0.4f})\")\n",
    "            best_dice    = val_dice\n",
    "            best_jaccard = val_jaccard\n",
    "            best_epoch   = epoch\n",
    "            \n",
    "            best_model_wts = copy.deepcopy(model.state_dict())\n",
    "            PATH = f\"{CFG.log_path}//best-{fold:02d}.bin\"\n",
    "            torch.save(model.state_dict(),PATH)\n",
    "            # Save a model file from the current directory\n",
    "            print(f\"Model Saved{sr_}\")\n",
    "            \n",
    "        last_model_wts = copy.deepcopy(model.state_dict())\n",
    "        # PATH = f\"last_epoch-{fold:02d}.bin\"\n",
    "        # h.save(model.state_dict(), PATH)  \n",
    "        scheduler.step()\n",
    "        print()\n",
    "    \n",
    "    end = time.time()\n",
    "    time_elapsed = end - start\n",
    "    print('Training complete in {:.0f}h {:.0f}m {:.0f}s'.format(\n",
    "        time_elapsed // 3600, (time_elapsed % 3600) // 60, (time_elapsed % 3600) % 60))\n",
    "    print(\"Best Score: {:.4f}\".format(best_jaccard))\n",
    "    \n",
    "    # load best model weights\n",
    "    model.load_state_dict(best_model_wts)\n",
    "    conf[f'fold{fold}_dice'] = best_dice\n",
    "    conf[f'fold{fold}_jaccard'] = best_jaccard\n",
    "    pd.DataFrame(history , columns =['Train Loss',\n",
    "                                    'Valid Loss',\n",
    "                                    'Valid Dice',\n",
    "                                    'Valid Jaccard'] ).to_csv(f\"{CFG.log_path}//history_fold{fold}.csv\")\n",
    "    return model, history"
   ]
  },
  {
   "cell_type": "markdown",
   "metadata": {},
   "source": [
    "## LR scheduler"
   ]
  },
  {
   "cell_type": "code",
   "execution_count": 21,
   "metadata": {},
   "outputs": [],
   "source": [
    "def fetch_scheduler(optimizer):\n",
    "    if CFG.scheduler == 'CosineAnnealingLR':\n",
    "        scheduler = lr_scheduler.CosineAnnealingLR(optimizer,T_max=CFG.T_max, \n",
    "                                                   eta_min=CFG.min_lr)\n",
    "    elif CFG.scheduler == 'CosineAnnealingWarmRestarts':\n",
    "        scheduler = lr_scheduler.CosineAnnealingWarmRestarts(optimizer,T_0=CFG.T_0, \n",
    "                                                             eta_min=CFG.min_lr)\n",
    "    elif CFG.scheduler == 'ReduceLROnPlateau':\n",
    "        scheduler = lr_scheduler.ReduceLROnPlateau(optimizer,\n",
    "                                                   mode='min',\n",
    "                                                   factor=0.1,\n",
    "                                                   patience=7,\n",
    "                                                   threshold=0.0001,\n",
    "                                                   min_lr=CFG.min_lr,)\n",
    "    elif CFG.scheduer == 'ExponentialLR':\n",
    "        scheduler = lr_scheduler.ExponentialLR(optimizer, gamma=0.85)\n",
    "    elif CFG.scheduler == None:\n",
    "        return None\n",
    "        \n",
    "    return scheduler"
   ]
  },
  {
   "cell_type": "markdown",
   "metadata": {},
   "source": [
    "## Training"
   ]
  },
  {
   "cell_type": "code",
   "execution_count": 22,
   "metadata": {},
   "outputs": [],
   "source": [
    "def run_train():\n",
    "    df = deal_csv()\n",
    "    print(f'check the transformed dataset')\n",
    "    if CFG.debug:\n",
    "        check_mask(df)\n",
    "    print(f'Begin Training')\n",
    "    if torch.cuda.is_available():\n",
    "        print(\"Using cuda: {}\\n\".format(torch.cuda.get_device_name()))\n",
    "    for fold in CFG.folds:\n",
    "        print(f'#'*15)\n",
    "        print(f'### Fold: {fold}')\n",
    "        print(f'#'*15)\n",
    "        train_loader, valid_loader = prepare_loaders(df,fold=fold, debug=CFG.debug)\n",
    "        if not CFG.pretrained :\n",
    "            model = build_model()\n",
    "        else:\n",
    "            path =glob(CFG.model_path+f'/*0{fold}.bin')[0]\n",
    "            print(f'usign pretrained model{path}')\n",
    "            model = load_model(path)\n",
    "        optimizer = optim.Adam(model.parameters(), lr=CFG.lr, weight_decay=CFG.wd)\n",
    "        scheduler = fetch_scheduler(optimizer)\n",
    "        \n",
    "        model, history = run_training(model, optimizer, scheduler,\n",
    "                                    num_epochs=CFG.epochs,train_loader=train_loader,valid_loader=valid_loader,fold=fold)\n",
    "        \n",
    "        \n",
    "    return \n",
    "    "
   ]
  },
  {
   "cell_type": "code",
   "execution_count": 23,
   "metadata": {},
   "outputs": [],
   "source": [
    "dic_conf =dict(CFG.__dict__)\n",
    "for key in dic_conf:\n",
    "    dic_conf[key] = str(dic_conf[key])\n",
    "conf= pd.DataFrame(dic_conf,index=[0])\n"
   ]
  },
  {
   "cell_type": "markdown",
   "metadata": {},
   "source": [
    "## RUN"
   ]
  },
  {
   "cell_type": "code",
   "execution_count": 24,
   "metadata": {},
   "outputs": [
    {
     "name": "stdout",
     "output_type": "stream",
     "text": [
      "fold  empty\n",
      "0.0   False    2552\n",
      "      True     4216\n",
      "1.0   False    2420\n",
      "      True     4476\n",
      "2.0   False    2669\n",
      "      True     4435\n",
      "3.0   False    2727\n",
      "      True     5129\n",
      "4.0   False    3717\n",
      "      True     6155\n",
      "Name: id, dtype: int64\n",
      "check the transformed dataset\n",
      "Begin Training\n",
      "Using cuda: NVIDIA TITAN RTX\n",
      "\n",
      "###############\n",
      "### Fold: 0\n",
      "###############\n",
      "Epoch 1/20"
     ]
    },
    {
     "name": "stderr",
     "output_type": "stream",
     "text": [
      "Train : 100%|██████████| 1587/1587 [1:13:25<00:00,  2.78s/it, gpu_mem=20.03 GB, lr=0.00200, train_loss=0.4563]\n",
      "Valid : 100%|██████████| 170/170 [02:57<00:00,  1.04s/it, gpu_memory=8.48 GB, valid_loss=0.2441]\n"
     ]
    },
    {
     "name": "stdout",
     "output_type": "stream",
     "text": [
      "Valid Dice: 0.8261 | Valid Jaccard: 0.7900\n",
      "\u001b[32mValid Score Improved (-inf ---> 0.8261)\n",
      "Model Saved\u001b[0m\n",
      "\n",
      "Epoch 2/20"
     ]
    },
    {
     "name": "stderr",
     "output_type": "stream",
     "text": [
      "Train : 100%|██████████| 1587/1587 [1:12:26<00:00,  2.74s/it, gpu_mem=20.31 GB, lr=0.00199, train_loss=0.3008]\n",
      "Valid : 100%|██████████| 170/170 [02:57<00:00,  1.05s/it, gpu_memory=8.59 GB, valid_loss=0.2141]\n"
     ]
    },
    {
     "name": "stdout",
     "output_type": "stream",
     "text": [
      "Valid Dice: 0.8601 | Valid Jaccard: 0.8258\n",
      "\u001b[32mValid Score Improved (0.8261 ---> 0.8601)\n",
      "Model Saved\u001b[0m\n",
      "\n",
      "Epoch 3/20"
     ]
    },
    {
     "name": "stderr",
     "output_type": "stream",
     "text": [
      "Train : 100%|██████████| 1587/1587 [1:13:43<00:00,  2.79s/it, gpu_mem=20.31 GB, lr=0.00197, train_loss=0.2672]\n",
      "Valid : 100%|██████████| 170/170 [02:55<00:00,  1.03s/it, gpu_memory=8.59 GB, valid_loss=0.2036]\n"
     ]
    },
    {
     "name": "stdout",
     "output_type": "stream",
     "text": [
      "Valid Dice: 0.8770 | Valid Jaccard: 0.8445\n",
      "\u001b[32mValid Score Improved (0.8601 ---> 0.8770)\n",
      "Model Saved\u001b[0m\n",
      "\n",
      "Epoch 4/20"
     ]
    },
    {
     "name": "stderr",
     "output_type": "stream",
     "text": [
      "Train : 100%|██████████| 1587/1587 [1:14:19<00:00,  2.81s/it, gpu_mem=20.32 GB, lr=0.00193, train_loss=0.2514]\n",
      "Valid : 100%|██████████| 170/170 [03:02<00:00,  1.07s/it, gpu_memory=8.60 GB, valid_loss=0.1689]\n"
     ]
    },
    {
     "name": "stdout",
     "output_type": "stream",
     "text": [
      "Valid Dice: 0.8887 | Valid Jaccard: 0.8567\n",
      "\u001b[32mValid Score Improved (0.8770 ---> 0.8887)\n",
      "Model Saved\u001b[0m\n",
      "\n",
      "Epoch 5/20"
     ]
    },
    {
     "name": "stderr",
     "output_type": "stream",
     "text": [
      "Train : 100%|██████████| 1587/1587 [1:12:05<00:00,  2.73s/it, gpu_mem=20.32 GB, lr=0.00188, train_loss=0.2343]\n",
      "Valid : 100%|██████████| 170/170 [02:45<00:00,  1.03it/s, gpu_memory=8.55 GB, valid_loss=0.2128]\n"
     ]
    },
    {
     "name": "stdout",
     "output_type": "stream",
     "text": [
      "Valid Dice: 0.8658 | Valid Jaccard: 0.8333\n",
      "\n",
      "Epoch 6/20"
     ]
    },
    {
     "name": "stderr",
     "output_type": "stream",
     "text": [
      "Train : 100%|██████████| 1587/1587 [1:09:49<00:00,  2.64s/it, gpu_mem=20.32 GB, lr=0.00181, train_loss=0.2275]\n",
      "Valid : 100%|██████████| 170/170 [02:44<00:00,  1.03it/s, gpu_memory=8.55 GB, valid_loss=0.3761]\n"
     ]
    },
    {
     "name": "stdout",
     "output_type": "stream",
     "text": [
      "Valid Dice: 0.7883 | Valid Jaccard: 0.7676\n",
      "\n",
      "Epoch 7/20"
     ]
    },
    {
     "name": "stderr",
     "output_type": "stream",
     "text": [
      "Train : 100%|██████████| 1587/1587 [1:09:10<00:00,  2.62s/it, gpu_mem=20.32 GB, lr=0.00173, train_loss=0.2179]\n",
      "Valid : 100%|██████████| 170/170 [02:45<00:00,  1.03it/s, gpu_memory=8.55 GB, valid_loss=0.1783]\n"
     ]
    },
    {
     "name": "stdout",
     "output_type": "stream",
     "text": [
      "Valid Dice: 0.8565 | Valid Jaccard: 0.8232\n",
      "\n",
      "Epoch 8/20"
     ]
    },
    {
     "name": "stderr",
     "output_type": "stream",
     "text": [
      "Train : 100%|██████████| 1587/1587 [1:10:06<00:00,  2.65s/it, gpu_mem=20.33 GB, lr=0.00164, train_loss=0.2047]\n",
      "Valid : 100%|██████████| 170/170 [02:43<00:00,  1.04it/s, gpu_memory=8.58 GB, valid_loss=0.1629]\n"
     ]
    },
    {
     "name": "stdout",
     "output_type": "stream",
     "text": [
      "Valid Dice: 0.8865 | Valid Jaccard: 0.8544\n",
      "\n",
      "Epoch 9/20"
     ]
    },
    {
     "name": "stderr",
     "output_type": "stream",
     "text": [
      "Train : 100%|██████████| 1587/1587 [1:09:28<00:00,  2.63s/it, gpu_mem=20.32 GB, lr=0.00154, train_loss=0.2070]\n",
      "Valid : 100%|██████████| 170/170 [02:45<00:00,  1.03it/s, gpu_memory=8.58 GB, valid_loss=0.1757]\n"
     ]
    },
    {
     "name": "stdout",
     "output_type": "stream",
     "text": [
      "Valid Dice: 0.8898 | Valid Jaccard: 0.8589\n",
      "\u001b[32mValid Score Improved (0.8887 ---> 0.8898)\n",
      "Model Saved\u001b[0m\n",
      "\n",
      "Epoch 10/20"
     ]
    },
    {
     "name": "stderr",
     "output_type": "stream",
     "text": [
      "Train : 100%|██████████| 1587/1587 [1:09:36<00:00,  2.63s/it, gpu_mem=20.33 GB, lr=0.00143, train_loss=0.2057]\n",
      "Valid : 100%|██████████| 170/170 [02:44<00:00,  1.04it/s, gpu_memory=8.58 GB, valid_loss=0.1688]\n"
     ]
    },
    {
     "name": "stdout",
     "output_type": "stream",
     "text": [
      "Valid Dice: 0.8951 | Valid Jaccard: 0.8640\n",
      "\u001b[32mValid Score Improved (0.8898 ---> 0.8951)\n",
      "Model Saved\u001b[0m\n",
      "\n",
      "Epoch 11/20"
     ]
    },
    {
     "name": "stderr",
     "output_type": "stream",
     "text": [
      "Train : 100%|██████████| 1587/1587 [1:09:56<00:00,  2.64s/it, gpu_mem=20.33 GB, lr=0.00131, train_loss=0.1923]\n",
      "Valid : 100%|██████████| 170/170 [02:46<00:00,  1.02it/s, gpu_memory=8.59 GB, valid_loss=0.1597]\n"
     ]
    },
    {
     "name": "stdout",
     "output_type": "stream",
     "text": [
      "Valid Dice: 0.8992 | Valid Jaccard: 0.8695\n",
      "\u001b[32mValid Score Improved (0.8951 ---> 0.8992)\n",
      "Model Saved\u001b[0m\n",
      "\n",
      "Epoch 12/20"
     ]
    },
    {
     "name": "stderr",
     "output_type": "stream",
     "text": [
      "Train : 100%|██████████| 1587/1587 [1:09:12<00:00,  2.62s/it, gpu_mem=20.33 GB, lr=0.00119, train_loss=0.1822]\n",
      "Valid : 100%|██████████| 170/170 [02:46<00:00,  1.02it/s, gpu_memory=8.62 GB, valid_loss=0.1647]\n"
     ]
    },
    {
     "name": "stdout",
     "output_type": "stream",
     "text": [
      "Valid Dice: 0.8862 | Valid Jaccard: 0.8542\n",
      "\n",
      "Epoch 13/20"
     ]
    },
    {
     "name": "stderr",
     "output_type": "stream",
     "text": [
      "Train : 100%|██████████| 1587/1587 [1:10:10<00:00,  2.65s/it, gpu_mem=20.35 GB, lr=0.00106, train_loss=0.1807]\n",
      "Valid : 100%|██████████| 170/170 [02:46<00:00,  1.02it/s, gpu_memory=8.62 GB, valid_loss=0.1478]\n"
     ]
    },
    {
     "name": "stdout",
     "output_type": "stream",
     "text": [
      "Valid Dice: 0.9061 | Valid Jaccard: 0.8756\n",
      "\u001b[32mValid Score Improved (0.8992 ---> 0.9061)\n",
      "Model Saved\u001b[0m\n",
      "\n",
      "Epoch 14/20"
     ]
    },
    {
     "name": "stderr",
     "output_type": "stream",
     "text": [
      "Train : 100%|██████████| 1587/1587 [1:09:25<00:00,  2.62s/it, gpu_mem=20.32 GB, lr=0.00094, train_loss=0.1733]\n",
      "Valid : 100%|██████████| 170/170 [02:44<00:00,  1.03it/s, gpu_memory=8.62 GB, valid_loss=0.1677]\n"
     ]
    },
    {
     "name": "stdout",
     "output_type": "stream",
     "text": [
      "Valid Dice: 0.8920 | Valid Jaccard: 0.8617\n",
      "\n",
      "Epoch 15/20"
     ]
    },
    {
     "name": "stderr",
     "output_type": "stream",
     "text": [
      "Train : 100%|██████████| 1587/1587 [1:09:36<00:00,  2.63s/it, gpu_mem=20.36 GB, lr=0.00081, train_loss=0.1688]\n",
      "Valid : 100%|██████████| 170/170 [02:43<00:00,  1.04it/s, gpu_memory=8.60 GB, valid_loss=0.1532]\n"
     ]
    },
    {
     "name": "stdout",
     "output_type": "stream",
     "text": [
      "Valid Dice: 0.9025 | Valid Jaccard: 0.8730\n",
      "\n",
      "Epoch 16/20"
     ]
    },
    {
     "name": "stderr",
     "output_type": "stream",
     "text": [
      "Train : 100%|██████████| 1587/1587 [1:10:01<00:00,  2.65s/it, gpu_mem=20.35 GB, lr=0.00069, train_loss=0.1658]\n",
      "Valid : 100%|██████████| 170/170 [02:44<00:00,  1.03it/s, gpu_memory=8.63 GB, valid_loss=0.1586]\n"
     ]
    },
    {
     "name": "stdout",
     "output_type": "stream",
     "text": [
      "Valid Dice: 0.9043 | Valid Jaccard: 0.8752\n",
      "\n",
      "Epoch 17/20"
     ]
    },
    {
     "name": "stderr",
     "output_type": "stream",
     "text": [
      "Train : 100%|██████████| 1587/1587 [1:09:23<00:00,  2.62s/it, gpu_mem=20.35 GB, lr=0.00057, train_loss=0.1602]\n",
      "Valid : 100%|██████████| 170/170 [02:45<00:00,  1.03it/s, gpu_memory=8.65 GB, valid_loss=0.1460]\n"
     ]
    },
    {
     "name": "stdout",
     "output_type": "stream",
     "text": [
      "Valid Dice: 0.9068 | Valid Jaccard: 0.8772\n",
      "\u001b[32mValid Score Improved (0.9061 ---> 0.9068)\n",
      "Model Saved\u001b[0m\n",
      "\n",
      "Epoch 18/20"
     ]
    },
    {
     "name": "stderr",
     "output_type": "stream",
     "text": [
      "Train : 100%|██████████| 1587/1587 [1:10:22<00:00,  2.66s/it, gpu_mem=20.35 GB, lr=0.00046, train_loss=0.1560]\n",
      "Valid : 100%|██████████| 170/170 [02:42<00:00,  1.04it/s, gpu_memory=8.65 GB, valid_loss=0.1454]\n"
     ]
    },
    {
     "name": "stdout",
     "output_type": "stream",
     "text": [
      "Valid Dice: 0.9080 | Valid Jaccard: 0.8787\n",
      "\u001b[32mValid Score Improved (0.9068 ---> 0.9080)\n",
      "Model Saved\u001b[0m\n",
      "\n",
      "Epoch 19/20"
     ]
    },
    {
     "name": "stderr",
     "output_type": "stream",
     "text": [
      "Train : 100%|██████████| 1587/1587 [1:09:46<00:00,  2.64s/it, gpu_mem=20.38 GB, lr=0.00036, train_loss=0.1520]\n",
      "Valid : 100%|██████████| 170/170 [02:43<00:00,  1.04it/s, gpu_memory=8.67 GB, valid_loss=0.1551]\n"
     ]
    },
    {
     "name": "stdout",
     "output_type": "stream",
     "text": [
      "Valid Dice: 0.9041 | Valid Jaccard: 0.8750\n",
      "\n",
      "Epoch 20/20"
     ]
    },
    {
     "name": "stderr",
     "output_type": "stream",
     "text": [
      "Train : 100%|██████████| 1587/1587 [1:09:29<00:00,  2.63s/it, gpu_mem=20.39 GB, lr=0.00027, train_loss=0.1501]\n",
      "Valid : 100%|██████████| 170/170 [02:42<00:00,  1.04it/s, gpu_memory=8.68 GB, valid_loss=0.1451]\n"
     ]
    },
    {
     "name": "stdout",
     "output_type": "stream",
     "text": [
      "Valid Dice: 0.9104 | Valid Jaccard: 0.8819\n",
      "\u001b[32mValid Score Improved (0.9080 ---> 0.9104)\n",
      "Model Saved\u001b[0m\n",
      "\n",
      "Training complete in 24h 28m 19s\n",
      "Best Score: 0.8819\n",
      "###############\n",
      "### Fold: 1\n",
      "###############\n",
      "Epoch 1/20"
     ]
    },
    {
     "name": "stderr",
     "output_type": "stream",
     "text": [
      "Train : 100%|██████████| 1580/1580 [1:09:52<00:00,  2.65s/it, gpu_mem=20.11 GB, lr=0.00200, train_loss=0.4694]\n",
      "Valid : 100%|██████████| 173/173 [02:48<00:00,  1.02it/s, gpu_memory=9.16 GB, valid_loss=0.2256]\n"
     ]
    },
    {
     "name": "stdout",
     "output_type": "stream",
     "text": [
      "Valid Dice: 0.8351 | Valid Jaccard: 0.8034\n",
      "\u001b[32mValid Score Improved (-inf ---> 0.8351)\n",
      "Model Saved\u001b[0m\n",
      "\n",
      "Epoch 2/20"
     ]
    },
    {
     "name": "stderr",
     "output_type": "stream",
     "text": [
      "Train : 100%|██████████| 1580/1580 [1:09:09<00:00,  2.63s/it, gpu_mem=20.28 GB, lr=0.00199, train_loss=0.3028]\n",
      "Valid : 100%|██████████| 173/173 [02:47<00:00,  1.03it/s, gpu_memory=8.80 GB, valid_loss=0.2248]\n"
     ]
    },
    {
     "name": "stdout",
     "output_type": "stream",
     "text": [
      "Valid Dice: 0.8400 | Valid Jaccard: 0.8094\n",
      "\u001b[32mValid Score Improved (0.8351 ---> 0.8400)\n",
      "Model Saved\u001b[0m\n",
      "\n",
      "Epoch 3/20"
     ]
    },
    {
     "name": "stderr",
     "output_type": "stream",
     "text": [
      "Train : 100%|██████████| 1580/1580 [1:09:20<00:00,  2.63s/it, gpu_mem=20.34 GB, lr=0.00197, train_loss=0.2668]\n",
      "Valid : 100%|██████████| 173/173 [02:46<00:00,  1.04it/s, gpu_memory=8.82 GB, valid_loss=0.1956]\n"
     ]
    },
    {
     "name": "stdout",
     "output_type": "stream",
     "text": [
      "Valid Dice: 0.8576 | Valid Jaccard: 0.8268\n",
      "\u001b[32mValid Score Improved (0.8400 ---> 0.8576)\n",
      "Model Saved\u001b[0m\n",
      "\n",
      "Epoch 4/20"
     ]
    },
    {
     "name": "stderr",
     "output_type": "stream",
     "text": [
      "Train : 100%|██████████| 1580/1580 [1:09:09<00:00,  2.63s/it, gpu_mem=20.31 GB, lr=0.00193, train_loss=0.2494]\n",
      "Valid : 100%|██████████| 173/173 [02:48<00:00,  1.03it/s, gpu_memory=9.39 GB, valid_loss=0.2715]\n"
     ]
    },
    {
     "name": "stdout",
     "output_type": "stream",
     "text": [
      "Valid Dice: 0.8142 | Valid Jaccard: 0.7846\n",
      "\n",
      "Epoch 5/20"
     ]
    },
    {
     "name": "stderr",
     "output_type": "stream",
     "text": [
      "Train : 100%|██████████| 1580/1580 [1:09:12<00:00,  2.63s/it, gpu_mem=20.30 GB, lr=0.00188, train_loss=0.2433]\n",
      "Valid : 100%|██████████| 173/173 [02:46<00:00,  1.04it/s, gpu_memory=9.23 GB, valid_loss=0.2022]\n"
     ]
    },
    {
     "name": "stdout",
     "output_type": "stream",
     "text": [
      "Valid Dice: 0.8656 | Valid Jaccard: 0.8359\n",
      "\u001b[32mValid Score Improved (0.8576 ---> 0.8656)\n",
      "Model Saved\u001b[0m\n",
      "\n",
      "Epoch 6/20"
     ]
    },
    {
     "name": "stderr",
     "output_type": "stream",
     "text": [
      "Train : 100%|██████████| 1580/1580 [1:09:34<00:00,  2.64s/it, gpu_mem=20.34 GB, lr=0.00181, train_loss=0.2304]\n",
      "Valid : 100%|██████████| 173/173 [02:49<00:00,  1.02it/s, gpu_memory=9.23 GB, valid_loss=0.1819]\n"
     ]
    },
    {
     "name": "stdout",
     "output_type": "stream",
     "text": [
      "Valid Dice: 0.8692 | Valid Jaccard: 0.8398\n",
      "\u001b[32mValid Score Improved (0.8656 ---> 0.8692)\n",
      "Model Saved\u001b[0m\n",
      "\n",
      "Epoch 7/20"
     ]
    },
    {
     "name": "stderr",
     "output_type": "stream",
     "text": [
      "Train : 100%|██████████| 1580/1580 [1:09:04<00:00,  2.62s/it, gpu_mem=20.37 GB, lr=0.00173, train_loss=0.2142]\n",
      "Valid : 100%|██████████| 173/173 [02:48<00:00,  1.03it/s, gpu_memory=8.82 GB, valid_loss=0.1619]\n"
     ]
    },
    {
     "name": "stdout",
     "output_type": "stream",
     "text": [
      "Valid Dice: 0.8857 | Valid Jaccard: 0.8573\n",
      "\u001b[32mValid Score Improved (0.8692 ---> 0.8857)\n",
      "Model Saved\u001b[0m\n",
      "\n",
      "Epoch 8/20"
     ]
    },
    {
     "name": "stderr",
     "output_type": "stream",
     "text": [
      "Train : 100%|██████████| 1580/1580 [1:09:30<00:00,  2.64s/it, gpu_mem=20.34 GB, lr=0.00164, train_loss=0.2084]\n",
      "Valid : 100%|██████████| 173/173 [02:46<00:00,  1.04it/s, gpu_memory=9.24 GB, valid_loss=0.1912]\n"
     ]
    },
    {
     "name": "stdout",
     "output_type": "stream",
     "text": [
      "Valid Dice: 0.8816 | Valid Jaccard: 0.8529\n",
      "\n",
      "Epoch 9/20"
     ]
    },
    {
     "name": "stderr",
     "output_type": "stream",
     "text": [
      "Train : 100%|██████████| 1580/1580 [1:09:27<00:00,  2.64s/it, gpu_mem=20.35 GB, lr=0.00154, train_loss=0.2011]\n",
      "Valid : 100%|██████████| 173/173 [02:48<00:00,  1.03it/s, gpu_memory=9.24 GB, valid_loss=0.1556]\n"
     ]
    },
    {
     "name": "stdout",
     "output_type": "stream",
     "text": [
      "Valid Dice: 0.8920 | Valid Jaccard: 0.8640\n",
      "\u001b[32mValid Score Improved (0.8857 ---> 0.8920)\n",
      "Model Saved\u001b[0m\n",
      "\n",
      "Epoch 10/20"
     ]
    },
    {
     "name": "stderr",
     "output_type": "stream",
     "text": [
      "Train : 100%|██████████| 1580/1580 [1:09:13<00:00,  2.63s/it, gpu_mem=20.36 GB, lr=0.00143, train_loss=0.1975]\n",
      "Valid : 100%|██████████| 173/173 [02:48<00:00,  1.03it/s, gpu_memory=9.24 GB, valid_loss=0.1944]\n"
     ]
    },
    {
     "name": "stdout",
     "output_type": "stream",
     "text": [
      "Valid Dice: 0.8915 | Valid Jaccard: 0.8677\n",
      "\n",
      "Epoch 11/20"
     ]
    },
    {
     "name": "stderr",
     "output_type": "stream",
     "text": [
      "Train : 100%|██████████| 1580/1580 [1:09:51<00:00,  2.65s/it, gpu_mem=20.39 GB, lr=0.00131, train_loss=0.1913]\n",
      "Valid : 100%|██████████| 173/173 [02:49<00:00,  1.02it/s, gpu_memory=9.40 GB, valid_loss=0.1532]\n"
     ]
    },
    {
     "name": "stdout",
     "output_type": "stream",
     "text": [
      "Valid Dice: 0.8962 | Valid Jaccard: 0.8687\n",
      "\u001b[32mValid Score Improved (0.8920 ---> 0.8962)\n",
      "Model Saved\u001b[0m\n",
      "\n",
      "Epoch 12/20"
     ]
    },
    {
     "name": "stderr",
     "output_type": "stream",
     "text": [
      "Train : 100%|██████████| 1580/1580 [1:09:02<00:00,  2.62s/it, gpu_mem=20.35 GB, lr=0.00119, train_loss=0.1874]\n",
      "Valid : 100%|██████████| 173/173 [02:48<00:00,  1.03it/s, gpu_memory=9.24 GB, valid_loss=0.1492]\n"
     ]
    },
    {
     "name": "stdout",
     "output_type": "stream",
     "text": [
      "Valid Dice: 0.8846 | Valid Jaccard: 0.8572\n",
      "\n",
      "Epoch 13/20"
     ]
    },
    {
     "name": "stderr",
     "output_type": "stream",
     "text": [
      "Train : 100%|██████████| 1580/1580 [1:09:13<00:00,  2.63s/it, gpu_mem=20.37 GB, lr=0.00106, train_loss=0.1799]\n",
      "Valid : 100%|██████████| 173/173 [02:47<00:00,  1.03it/s, gpu_memory=9.24 GB, valid_loss=0.1504]\n"
     ]
    },
    {
     "name": "stdout",
     "output_type": "stream",
     "text": [
      "Valid Dice: 0.9037 | Valid Jaccard: 0.8764\n",
      "\u001b[32mValid Score Improved (0.8962 ---> 0.9037)\n",
      "Model Saved\u001b[0m\n",
      "\n",
      "Epoch 14/20"
     ]
    },
    {
     "name": "stderr",
     "output_type": "stream",
     "text": [
      "Train : 100%|██████████| 1580/1580 [1:09:20<00:00,  2.63s/it, gpu_mem=20.36 GB, lr=0.00094, train_loss=0.1745]\n",
      "Valid : 100%|██████████| 173/173 [02:50<00:00,  1.01it/s, gpu_memory=9.23 GB, valid_loss=0.1445]\n"
     ]
    },
    {
     "name": "stdout",
     "output_type": "stream",
     "text": [
      "Valid Dice: 0.9028 | Valid Jaccard: 0.8764\n",
      "\n",
      "Epoch 15/20"
     ]
    },
    {
     "name": "stderr",
     "output_type": "stream",
     "text": [
      "Train : 100%|██████████| 1580/1580 [1:10:01<00:00,  2.66s/it, gpu_mem=20.39 GB, lr=0.00081, train_loss=0.1713]\n",
      "Valid : 100%|██████████| 173/173 [02:46<00:00,  1.04it/s, gpu_memory=9.39 GB, valid_loss=0.1463]\n"
     ]
    },
    {
     "name": "stdout",
     "output_type": "stream",
     "text": [
      "Valid Dice: 0.9026 | Valid Jaccard: 0.8759\n",
      "\n",
      "Epoch 16/20"
     ]
    },
    {
     "name": "stderr",
     "output_type": "stream",
     "text": [
      "Train : 100%|██████████| 1580/1580 [1:09:34<00:00,  2.64s/it, gpu_mem=20.35 GB, lr=0.00069, train_loss=0.1674]\n",
      "Valid : 100%|██████████| 173/173 [02:47<00:00,  1.03it/s, gpu_memory=9.23 GB, valid_loss=0.1440]\n"
     ]
    },
    {
     "name": "stdout",
     "output_type": "stream",
     "text": [
      "Valid Dice: 0.9088 | Valid Jaccard: 0.8823\n",
      "\u001b[32mValid Score Improved (0.9037 ---> 0.9088)\n",
      "Model Saved\u001b[0m\n",
      "\n",
      "Epoch 17/20"
     ]
    },
    {
     "name": "stderr",
     "output_type": "stream",
     "text": [
      "Train : 100%|██████████| 1580/1580 [1:09:42<00:00,  2.65s/it, gpu_mem=20.41 GB, lr=0.00057, train_loss=0.1612]\n",
      "Valid : 100%|██████████| 173/173 [02:48<00:00,  1.03it/s, gpu_memory=9.24 GB, valid_loss=0.1413]\n"
     ]
    },
    {
     "name": "stdout",
     "output_type": "stream",
     "text": [
      "Valid Dice: 0.9023 | Valid Jaccard: 0.8756\n",
      "\n",
      "Epoch 18/20"
     ]
    },
    {
     "name": "stderr",
     "output_type": "stream",
     "text": [
      "Train : 100%|██████████| 1580/1580 [1:09:10<00:00,  2.63s/it, gpu_mem=20.39 GB, lr=0.00046, train_loss=0.1599]\n",
      "Valid : 100%|██████████| 173/173 [02:46<00:00,  1.04it/s, gpu_memory=9.24 GB, valid_loss=0.1429]\n"
     ]
    },
    {
     "name": "stdout",
     "output_type": "stream",
     "text": [
      "Valid Dice: 0.9079 | Valid Jaccard: 0.8819\n",
      "\n",
      "Epoch 19/20"
     ]
    },
    {
     "name": "stderr",
     "output_type": "stream",
     "text": [
      "Train : 100%|██████████| 1580/1580 [1:09:37<00:00,  2.64s/it, gpu_mem=20.41 GB, lr=0.00036, train_loss=0.1536]\n",
      "Valid : 100%|██████████| 173/173 [02:48<00:00,  1.02it/s, gpu_memory=9.24 GB, valid_loss=0.1431]\n"
     ]
    },
    {
     "name": "stdout",
     "output_type": "stream",
     "text": [
      "Valid Dice: 0.9071 | Valid Jaccard: 0.8810\n",
      "\n",
      "Epoch 20/20"
     ]
    },
    {
     "name": "stderr",
     "output_type": "stream",
     "text": [
      "Train : 100%|██████████| 1580/1580 [1:08:49<00:00,  2.61s/it, gpu_mem=20.39 GB, lr=0.00027, train_loss=0.1508]\n",
      "Valid : 100%|██████████| 173/173 [02:47<00:00,  1.03it/s, gpu_memory=9.24 GB, valid_loss=0.1371]\n"
     ]
    },
    {
     "name": "stdout",
     "output_type": "stream",
     "text": [
      "Valid Dice: 0.9068 | Valid Jaccard: 0.8808\n",
      "\n",
      "Training complete in 24h 4m 55s\n",
      "Best Score: 0.8823\n",
      "###############\n",
      "### Fold: 2\n",
      "###############\n",
      "Epoch 1/20"
     ]
    },
    {
     "name": "stderr",
     "output_type": "stream",
     "text": [
      "Train : 100%|██████████| 1570/1570 [1:09:40<00:00,  2.66s/it, gpu_mem=20.06 GB, lr=0.00200, train_loss=0.4961]\n",
      "Valid : 100%|██████████| 178/178 [02:56<00:00,  1.01it/s, gpu_memory=9.32 GB, valid_loss=0.2667]\n"
     ]
    },
    {
     "name": "stdout",
     "output_type": "stream",
     "text": [
      "Valid Dice: 0.8150 | Valid Jaccard: 0.7786\n",
      "\u001b[32mValid Score Improved (-inf ---> 0.8150)\n",
      "Model Saved\u001b[0m\n",
      "\n",
      "Epoch 2/20"
     ]
    },
    {
     "name": "stderr",
     "output_type": "stream",
     "text": [
      "Train : 100%|██████████| 1570/1570 [1:13:39<00:00,  2.82s/it, gpu_mem=20.30 GB, lr=0.00199, train_loss=0.3060]\n",
      "Valid : 100%|██████████| 178/178 [03:08<00:00,  1.06s/it, gpu_memory=9.44 GB, valid_loss=0.2072]\n"
     ]
    },
    {
     "name": "stdout",
     "output_type": "stream",
     "text": [
      "Valid Dice: 0.8577 | Valid Jaccard: 0.8225\n",
      "\u001b[32mValid Score Improved (0.8150 ---> 0.8577)\n",
      "Model Saved\u001b[0m\n",
      "\n",
      "Epoch 3/20"
     ]
    },
    {
     "name": "stderr",
     "output_type": "stream",
     "text": [
      "Train : 100%|██████████| 1570/1570 [1:13:44<00:00,  2.82s/it, gpu_mem=20.37 GB, lr=0.00197, train_loss=0.2741]\n",
      "Valid : 100%|██████████| 178/178 [03:05<00:00,  1.04s/it, gpu_memory=9.49 GB, valid_loss=0.2409]\n"
     ]
    },
    {
     "name": "stdout",
     "output_type": "stream",
     "text": [
      "Valid Dice: 0.8551 | Valid Jaccard: 0.8233\n",
      "\n",
      "Epoch 4/20"
     ]
    },
    {
     "name": "stderr",
     "output_type": "stream",
     "text": [
      "Train : 100%|██████████| 1570/1570 [1:13:36<00:00,  2.81s/it, gpu_mem=20.33 GB, lr=0.00193, train_loss=0.2578]\n",
      "Valid : 100%|██████████| 178/178 [03:05<00:00,  1.04s/it, gpu_memory=9.45 GB, valid_loss=0.2665]\n"
     ]
    },
    {
     "name": "stdout",
     "output_type": "stream",
     "text": [
      "Valid Dice: 0.8533 | Valid Jaccard: 0.8234\n",
      "\n",
      "Epoch 5/20"
     ]
    },
    {
     "name": "stderr",
     "output_type": "stream",
     "text": [
      "Train : 100%|██████████| 1570/1570 [1:10:16<00:00,  2.69s/it, gpu_mem=20.37 GB, lr=0.00188, train_loss=0.2340]\n",
      "Valid : 100%|██████████| 178/178 [02:54<00:00,  1.02it/s, gpu_memory=9.49 GB, valid_loss=0.1785]\n"
     ]
    },
    {
     "name": "stdout",
     "output_type": "stream",
     "text": [
      "Valid Dice: 0.8832 | Valid Jaccard: 0.8507\n",
      "\u001b[32mValid Score Improved (0.8577 ---> 0.8832)\n",
      "Model Saved\u001b[0m\n",
      "\n",
      "Epoch 6/20"
     ]
    },
    {
     "name": "stderr",
     "output_type": "stream",
     "text": [
      "Train : 100%|██████████| 1570/1570 [1:08:55<00:00,  2.63s/it, gpu_mem=20.33 GB, lr=0.00181, train_loss=0.2289]\n",
      "Valid : 100%|██████████| 178/178 [02:54<00:00,  1.02it/s, gpu_memory=9.50 GB, valid_loss=0.2187]\n"
     ]
    },
    {
     "name": "stdout",
     "output_type": "stream",
     "text": [
      "Valid Dice: 0.8791 | Valid Jaccard: 0.8517\n",
      "\n",
      "Epoch 7/20"
     ]
    },
    {
     "name": "stderr",
     "output_type": "stream",
     "text": [
      "Train : 100%|██████████| 1570/1570 [1:09:33<00:00,  2.66s/it, gpu_mem=20.34 GB, lr=0.00173, train_loss=0.2267]\n",
      "Valid : 100%|██████████| 178/178 [02:55<00:00,  1.01it/s, gpu_memory=9.44 GB, valid_loss=0.1646]\n"
     ]
    },
    {
     "name": "stdout",
     "output_type": "stream",
     "text": [
      "Valid Dice: 0.8855 | Valid Jaccard: 0.8532\n",
      "\u001b[32mValid Score Improved (0.8832 ---> 0.8855)\n",
      "Model Saved\u001b[0m\n",
      "\n",
      "Epoch 8/20"
     ]
    },
    {
     "name": "stderr",
     "output_type": "stream",
     "text": [
      "Train : 100%|██████████| 1570/1570 [1:09:35<00:00,  2.66s/it, gpu_mem=20.35 GB, lr=0.00164, train_loss=0.2153]\n",
      "Valid : 100%|██████████| 178/178 [02:53<00:00,  1.02it/s, gpu_memory=9.47 GB, valid_loss=0.1784]\n"
     ]
    },
    {
     "name": "stdout",
     "output_type": "stream",
     "text": [
      "Valid Dice: 0.8930 | Valid Jaccard: 0.8632\n",
      "\u001b[32mValid Score Improved (0.8855 ---> 0.8930)\n",
      "Model Saved\u001b[0m\n",
      "\n",
      "Epoch 9/20"
     ]
    },
    {
     "name": "stderr",
     "output_type": "stream",
     "text": [
      "Train : 100%|██████████| 1570/1570 [1:10:06<00:00,  2.68s/it, gpu_mem=20.42 GB, lr=0.00154, train_loss=0.2052]\n",
      "Valid : 100%|██████████| 178/178 [02:56<00:00,  1.01it/s, gpu_memory=9.49 GB, valid_loss=0.1666]\n"
     ]
    },
    {
     "name": "stdout",
     "output_type": "stream",
     "text": [
      "Valid Dice: 0.8929 | Valid Jaccard: 0.8624\n",
      "\n",
      "Epoch 10/20"
     ]
    },
    {
     "name": "stderr",
     "output_type": "stream",
     "text": [
      "Train : 100%|██████████| 1570/1570 [1:09:13<00:00,  2.65s/it, gpu_mem=20.34 GB, lr=0.00143, train_loss=0.2032]\n",
      "Valid : 100%|██████████| 178/178 [02:55<00:00,  1.02it/s, gpu_memory=9.47 GB, valid_loss=0.1658]\n"
     ]
    },
    {
     "name": "stdout",
     "output_type": "stream",
     "text": [
      "Valid Dice: 0.8992 | Valid Jaccard: 0.8688\n",
      "\u001b[32mValid Score Improved (0.8930 ---> 0.8992)\n",
      "Model Saved\u001b[0m\n",
      "\n",
      "Epoch 11/20"
     ]
    },
    {
     "name": "stderr",
     "output_type": "stream",
     "text": [
      "Train : 100%|██████████| 1570/1570 [1:09:54<00:00,  2.67s/it, gpu_mem=20.42 GB, lr=0.00131, train_loss=0.1951]\n",
      "Valid : 100%|██████████| 178/178 [02:55<00:00,  1.02it/s, gpu_memory=9.42 GB, valid_loss=0.1566]\n"
     ]
    },
    {
     "name": "stdout",
     "output_type": "stream",
     "text": [
      "Valid Dice: 0.9074 | Valid Jaccard: 0.8778\n",
      "\u001b[32mValid Score Improved (0.8992 ---> 0.9074)\n",
      "Model Saved\u001b[0m\n",
      "\n",
      "Epoch 12/20"
     ]
    },
    {
     "name": "stderr",
     "output_type": "stream",
     "text": [
      "Train : 100%|██████████| 1570/1570 [1:09:47<00:00,  2.67s/it, gpu_mem=20.36 GB, lr=0.00119, train_loss=0.1923]\n",
      "Valid : 100%|██████████| 178/178 [02:56<00:00,  1.01it/s, gpu_memory=9.49 GB, valid_loss=0.1611]\n"
     ]
    },
    {
     "name": "stdout",
     "output_type": "stream",
     "text": [
      "Valid Dice: 0.9042 | Valid Jaccard: 0.8742\n",
      "\n",
      "Epoch 13/20"
     ]
    },
    {
     "name": "stderr",
     "output_type": "stream",
     "text": [
      "Train : 100%|██████████| 1570/1570 [1:09:42<00:00,  2.66s/it, gpu_mem=20.33 GB, lr=0.00106, train_loss=0.1825]\n",
      "Valid : 100%|██████████| 178/178 [02:54<00:00,  1.02it/s, gpu_memory=9.49 GB, valid_loss=0.1614]\n"
     ]
    },
    {
     "name": "stdout",
     "output_type": "stream",
     "text": [
      "Valid Dice: 0.9045 | Valid Jaccard: 0.8752\n",
      "\n",
      "Epoch 14/20"
     ]
    },
    {
     "name": "stderr",
     "output_type": "stream",
     "text": [
      "Train : 100%|██████████| 1570/1570 [1:10:20<00:00,  2.69s/it, gpu_mem=20.36 GB, lr=0.00094, train_loss=0.1789]\n",
      "Valid : 100%|██████████| 178/178 [02:56<00:00,  1.01it/s, gpu_memory=9.47 GB, valid_loss=0.1502]\n"
     ]
    },
    {
     "name": "stdout",
     "output_type": "stream",
     "text": [
      "Valid Dice: 0.9038 | Valid Jaccard: 0.8741\n",
      "\n",
      "Epoch 15/20"
     ]
    },
    {
     "name": "stderr",
     "output_type": "stream",
     "text": [
      "Train : 100%|██████████| 1570/1570 [1:10:13<00:00,  2.68s/it, gpu_mem=20.34 GB, lr=0.00081, train_loss=0.1728]\n",
      "Valid : 100%|██████████| 178/178 [02:55<00:00,  1.02it/s, gpu_memory=9.49 GB, valid_loss=0.1501]\n"
     ]
    },
    {
     "name": "stdout",
     "output_type": "stream",
     "text": [
      "Valid Dice: 0.9103 | Valid Jaccard: 0.8816\n",
      "\u001b[32mValid Score Improved (0.9074 ---> 0.9103)\n",
      "Model Saved\u001b[0m\n",
      "\n",
      "Epoch 16/20"
     ]
    },
    {
     "name": "stderr",
     "output_type": "stream",
     "text": [
      "Train : 100%|██████████| 1570/1570 [1:09:35<00:00,  2.66s/it, gpu_mem=20.36 GB, lr=0.00069, train_loss=0.1712]\n",
      "Valid : 100%|██████████| 178/178 [02:53<00:00,  1.02it/s, gpu_memory=9.49 GB, valid_loss=0.1497]\n"
     ]
    },
    {
     "name": "stdout",
     "output_type": "stream",
     "text": [
      "Valid Dice: 0.9101 | Valid Jaccard: 0.8807\n",
      "\n",
      "Epoch 17/20"
     ]
    },
    {
     "name": "stderr",
     "output_type": "stream",
     "text": [
      "Train : 100%|██████████| 1570/1570 [1:15:10<00:00,  2.87s/it, gpu_mem=20.42 GB, lr=0.00057, train_loss=0.1614]\n",
      "Valid : 100%|██████████| 178/178 [03:09<00:00,  1.06s/it, gpu_memory=9.49 GB, valid_loss=0.1501]\n"
     ]
    },
    {
     "name": "stdout",
     "output_type": "stream",
     "text": [
      "Valid Dice: 0.9074 | Valid Jaccard: 0.8787\n",
      "\n",
      "Epoch 18/20"
     ]
    },
    {
     "name": "stderr",
     "output_type": "stream",
     "text": [
      "Train : 100%|██████████| 1570/1570 [1:16:36<00:00,  2.93s/it, gpu_mem=20.37 GB, lr=0.00046, train_loss=0.1604]\n",
      "Valid : 100%|██████████| 178/178 [03:09<00:00,  1.06s/it, gpu_memory=9.49 GB, valid_loss=0.1594]\n"
     ]
    },
    {
     "name": "stdout",
     "output_type": "stream",
     "text": [
      "Valid Dice: 0.9067 | Valid Jaccard: 0.8782\n",
      "\n",
      "Epoch 19/20"
     ]
    },
    {
     "name": "stderr",
     "output_type": "stream",
     "text": [
      "Train : 100%|██████████| 1570/1570 [1:17:22<00:00,  2.96s/it, gpu_mem=20.42 GB, lr=0.00036, train_loss=0.1566]\n",
      "Valid : 100%|██████████| 178/178 [02:59<00:00,  1.01s/it, gpu_memory=9.50 GB, valid_loss=0.1554]\n"
     ]
    },
    {
     "name": "stdout",
     "output_type": "stream",
     "text": [
      "Valid Dice: 0.9069 | Valid Jaccard: 0.8780\n",
      "\n",
      "Epoch 20/20"
     ]
    },
    {
     "name": "stderr",
     "output_type": "stream",
     "text": [
      "Train : 100%|██████████| 1570/1570 [1:11:22<00:00,  2.73s/it, gpu_mem=20.37 GB, lr=0.00027, train_loss=0.1533]\n",
      "Valid : 100%|██████████| 178/178 [02:59<00:00,  1.01s/it, gpu_memory=9.49 GB, valid_loss=0.1521]\n"
     ]
    },
    {
     "name": "stdout",
     "output_type": "stream",
     "text": [
      "Valid Dice: 0.9096 | Valid Jaccard: 0.8811\n",
      "\n",
      "Training complete in 24h 48m 51s\n",
      "Best Score: 0.8816\n",
      "###############\n",
      "### Fold: 3\n",
      "###############\n",
      "Epoch 1/20"
     ]
    },
    {
     "name": "stderr",
     "output_type": "stream",
     "text": [
      "Train : 100%|██████████| 1532/1532 [1:08:49<00:00,  2.70s/it, gpu_mem=19.94 GB, lr=0.00200, train_loss=0.4642]\n",
      "Valid : 100%|██████████| 197/197 [03:15<00:00,  1.01it/s, gpu_memory=9.16 GB, valid_loss=0.2114]\n"
     ]
    },
    {
     "name": "stdout",
     "output_type": "stream",
     "text": [
      "Valid Dice: 0.8738 | Valid Jaccard: 0.8461\n",
      "\u001b[32mValid Score Improved (-inf ---> 0.8738)\n",
      "Model Saved\u001b[0m\n",
      "\n",
      "Epoch 2/20"
     ]
    },
    {
     "name": "stderr",
     "output_type": "stream",
     "text": [
      "Train : 100%|██████████| 1532/1532 [1:09:47<00:00,  2.73s/it, gpu_mem=20.28 GB, lr=0.00199, train_loss=0.3002]\n",
      "Valid : 100%|██████████| 197/197 [03:17<00:00,  1.00s/it, gpu_memory=9.25 GB, valid_loss=0.1890]\n"
     ]
    },
    {
     "name": "stdout",
     "output_type": "stream",
     "text": [
      "Valid Dice: 0.8784 | Valid Jaccard: 0.8484\n",
      "\u001b[32mValid Score Improved (0.8738 ---> 0.8784)\n",
      "Model Saved\u001b[0m\n",
      "\n",
      "Epoch 3/20"
     ]
    },
    {
     "name": "stderr",
     "output_type": "stream",
     "text": [
      "Train : 100%|██████████| 1532/1532 [1:09:04<00:00,  2.71s/it, gpu_mem=20.35 GB, lr=0.00197, train_loss=0.2711]\n",
      "Valid : 100%|██████████| 197/197 [03:19<00:00,  1.01s/it, gpu_memory=9.27 GB, valid_loss=0.1954]\n"
     ]
    },
    {
     "name": "stdout",
     "output_type": "stream",
     "text": [
      "Valid Dice: 0.8790 | Valid Jaccard: 0.8495\n",
      "\u001b[32mValid Score Improved (0.8784 ---> 0.8790)\n",
      "Model Saved\u001b[0m\n",
      "\n",
      "Epoch 4/20"
     ]
    },
    {
     "name": "stderr",
     "output_type": "stream",
     "text": [
      "Train : 100%|██████████| 1532/1532 [1:09:21<00:00,  2.72s/it, gpu_mem=20.30 GB, lr=0.00193, train_loss=0.2527]\n",
      "Valid : 100%|██████████| 197/197 [03:17<00:00,  1.00s/it, gpu_memory=9.26 GB, valid_loss=0.1604]\n"
     ]
    },
    {
     "name": "stdout",
     "output_type": "stream",
     "text": [
      "Valid Dice: 0.8905 | Valid Jaccard: 0.8592\n",
      "\u001b[32mValid Score Improved (0.8790 ---> 0.8905)\n",
      "Model Saved\u001b[0m\n",
      "\n",
      "Epoch 5/20"
     ]
    },
    {
     "name": "stderr",
     "output_type": "stream",
     "text": [
      "Train : 100%|██████████| 1532/1532 [1:09:20<00:00,  2.72s/it, gpu_mem=20.30 GB, lr=0.00188, train_loss=0.2432]\n",
      "Valid : 100%|██████████| 197/197 [03:18<00:00,  1.01s/it, gpu_memory=9.26 GB, valid_loss=0.1675]\n"
     ]
    },
    {
     "name": "stdout",
     "output_type": "stream",
     "text": [
      "Valid Dice: 0.8837 | Valid Jaccard: 0.8554\n",
      "\n",
      "Epoch 6/20"
     ]
    },
    {
     "name": "stderr",
     "output_type": "stream",
     "text": [
      "Train : 100%|██████████| 1532/1532 [1:09:12<00:00,  2.71s/it, gpu_mem=20.38 GB, lr=0.00181, train_loss=0.2373]\n",
      "Valid : 100%|██████████| 197/197 [03:17<00:00,  1.00s/it, gpu_memory=9.27 GB, valid_loss=0.1902]\n"
     ]
    },
    {
     "name": "stdout",
     "output_type": "stream",
     "text": [
      "Valid Dice: 0.8802 | Valid Jaccard: 0.8545\n",
      "\n",
      "Epoch 7/20"
     ]
    },
    {
     "name": "stderr",
     "output_type": "stream",
     "text": [
      "Train : 100%|██████████| 1532/1532 [1:09:41<00:00,  2.73s/it, gpu_mem=20.32 GB, lr=0.00173, train_loss=0.2240]\n",
      "Valid : 100%|██████████| 197/197 [03:18<00:00,  1.01s/it, gpu_memory=9.27 GB, valid_loss=0.1437]\n"
     ]
    },
    {
     "name": "stdout",
     "output_type": "stream",
     "text": [
      "Valid Dice: 0.9144 | Valid Jaccard: 0.8876\n",
      "\u001b[32mValid Score Improved (0.8905 ---> 0.9144)\n",
      "Model Saved\u001b[0m\n",
      "\n",
      "Epoch 8/20"
     ]
    },
    {
     "name": "stderr",
     "output_type": "stream",
     "text": [
      "Train : 100%|██████████| 1532/1532 [1:09:09<00:00,  2.71s/it, gpu_mem=20.40 GB, lr=0.00164, train_loss=0.2231]\n",
      "Valid : 100%|██████████| 197/197 [03:19<00:00,  1.01s/it, gpu_memory=9.27 GB, valid_loss=0.1459]\n"
     ]
    },
    {
     "name": "stdout",
     "output_type": "stream",
     "text": [
      "Valid Dice: 0.9074 | Valid Jaccard: 0.8798\n",
      "\n",
      "Epoch 9/20"
     ]
    },
    {
     "name": "stderr",
     "output_type": "stream",
     "text": [
      "Train : 100%|██████████| 1532/1532 [1:09:42<00:00,  2.73s/it, gpu_mem=20.33 GB, lr=0.00154, train_loss=0.2090]\n",
      "Valid : 100%|██████████| 197/197 [03:18<00:00,  1.01s/it, gpu_memory=9.27 GB, valid_loss=0.1480]\n"
     ]
    },
    {
     "name": "stdout",
     "output_type": "stream",
     "text": [
      "Valid Dice: 0.9027 | Valid Jaccard: 0.8743\n",
      "\n",
      "Epoch 10/20"
     ]
    },
    {
     "name": "stderr",
     "output_type": "stream",
     "text": [
      "Train : 100%|██████████| 1532/1532 [1:09:31<00:00,  2.72s/it, gpu_mem=20.40 GB, lr=0.00143, train_loss=0.2080]\n",
      "Valid : 100%|██████████| 197/197 [03:20<00:00,  1.02s/it, gpu_memory=9.27 GB, valid_loss=0.1717]\n"
     ]
    },
    {
     "name": "stdout",
     "output_type": "stream",
     "text": [
      "Valid Dice: 0.8961 | Valid Jaccard: 0.8696\n",
      "\n",
      "Epoch 11/20"
     ]
    },
    {
     "name": "stderr",
     "output_type": "stream",
     "text": [
      "Train : 100%|██████████| 1532/1532 [1:09:05<00:00,  2.71s/it, gpu_mem=20.33 GB, lr=0.00131, train_loss=0.1943]\n",
      "Valid : 100%|██████████| 197/197 [03:18<00:00,  1.01s/it, gpu_memory=9.27 GB, valid_loss=0.1548]\n"
     ]
    },
    {
     "name": "stdout",
     "output_type": "stream",
     "text": [
      "Valid Dice: 0.8991 | Valid Jaccard: 0.8714\n",
      "\n",
      "Epoch 12/20"
     ]
    },
    {
     "name": "stderr",
     "output_type": "stream",
     "text": [
      "Train : 100%|██████████| 1532/1532 [1:10:21<00:00,  2.76s/it, gpu_mem=20.40 GB, lr=0.00119, train_loss=0.1946]\n",
      "Valid : 100%|██████████| 197/197 [03:17<00:00,  1.00s/it, gpu_memory=9.27 GB, valid_loss=0.1326]\n"
     ]
    },
    {
     "name": "stdout",
     "output_type": "stream",
     "text": [
      "Valid Dice: 0.9166 | Valid Jaccard: 0.8898\n",
      "\u001b[32mValid Score Improved (0.9144 ---> 0.9166)\n",
      "Model Saved\u001b[0m\n",
      "\n",
      "Epoch 13/20"
     ]
    },
    {
     "name": "stderr",
     "output_type": "stream",
     "text": [
      "Train : 100%|██████████| 1532/1532 [1:09:08<00:00,  2.71s/it, gpu_mem=20.34 GB, lr=0.00106, train_loss=0.1893]\n",
      "Valid : 100%|██████████| 197/197 [03:19<00:00,  1.01s/it, gpu_memory=9.27 GB, valid_loss=0.1530]\n"
     ]
    },
    {
     "name": "stdout",
     "output_type": "stream",
     "text": [
      "Valid Dice: 0.9100 | Valid Jaccard: 0.8859\n",
      "\n",
      "Epoch 14/20"
     ]
    },
    {
     "name": "stderr",
     "output_type": "stream",
     "text": [
      "Train :  83%|████████▎ | 1264/1532 [57:34<13:07,  2.94s/it, gpu_mem=20.33 GB, lr=0.00094, train_loss=0.1820] "
     ]
    }
   ],
   "source": [
    "run_train()\n",
    "conf.to_csv(f\"{CFG.log_path}//result.csv\")"
   ]
  },
  {
   "cell_type": "code",
   "execution_count": null,
   "metadata": {},
   "outputs": [],
   "source": []
  }
 ],
 "metadata": {
  "kernelspec": {
   "display_name": "Python 3.9.7 ('base')",
   "language": "python",
   "name": "python3"
  },
  "language_info": {
   "codemirror_mode": {
    "name": "ipython",
    "version": 3
   },
   "file_extension": ".py",
   "mimetype": "text/x-python",
   "name": "python",
   "nbconvert_exporter": "python",
   "pygments_lexer": "ipython3",
   "version": "3.9.7"
  },
  "orig_nbformat": 4,
  "vscode": {
   "interpreter": {
    "hash": "61a57a4b5406d2de388e2f91097d4e4bcd7d5f4a46f53a795aa28a02eed27fc5"
   }
  }
 },
 "nbformat": 4,
 "nbformat_minor": 2
}
